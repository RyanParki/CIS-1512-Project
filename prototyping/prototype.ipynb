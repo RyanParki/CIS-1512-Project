{
 "cells": [
  {
   "cell_type": "markdown",
   "id": "371074ee",
   "metadata": {},
   "source": [
    "# Prototyping\n",
    "1. Intro\n",
    "2. FReD Site to Relational DB\n",
    "3. USDA Hardiness Zones to Relational DB\n",
    "\n",
    "## 1. Intro\n",
    "Our project relies on multiple datasets to provide users with flowers based on their desired colors. Research indicates that, surprisingly, there is no unified extensive dataset of flower data and colors, so various public sources are combined.\n",
    "\n",
    "1. The Flower REflectance Databse, from reflectance.co.uk, is an academic project from Queen Mary, University of London to establish build a database of flower colors. It is the most complete dataset of its kind. The terms of use indicate that it is permissible to use the data for this usecase.\n",
    "\n",
    "2. The Perenual API from perenual.com has a feature rich and complete dataset with flower info and images. One can make 100 API calls per day for free with a registered account, which is sufficient for this usecase. API queries will be cached locally as the source data is unlikely to change.\n",
    "\n",
    "### Challenges\n",
    "* The FReD website is quite old, has no API, and the results page table has malformed HTML. It is necessarry to do some cleanup, parse the HTML, sanitize and enrich the data, then build a relational database from it.\n",
    "* The FReD database's color field requires some normalization. Some examples:\n",
    "  * Qualifiers e.g. **dark yellow**, **metallic green**\n",
    "    * In these cases, the qualifier will be stripped.\n",
    "  * Compound colors e.g. **white-light purple**, **violet-brown-green**\n",
    "    * These cases present an opprutinity to enrich and extend the source data by building multiple records for each flower by color.\n",
    "  * Specific shades e.g. **cream**, **lilac**\n",
    "    * These will be normalized to CMYK colors.\n",
    "\n",
    "### Directory layout\n",
    "```\n",
    "/prototyping/\n",
    "├── fred_build_db.sql           # SQL Statements to build the database\n",
    "├── fred_clean.html             # A manually cleaned HTML document from the FRed site\n",
    "├── fred_colors.txt             # A textfile of all colors for inspection\n",
    "├── fred_download.py            # Python script to download the original data from FReD\n",
    "├── fred_parsed.py              # Python script to process the data step by step with work shown\n",
    "├── fred_scrape.html            # Original HTML document containing the big table of flowers and colors\n",
    "├── perenual_get_example.py     # Python example for querying the Perenual API\n",
    "├── perenual_sample_data.json   # Sample record from Perenual search results\n",
    "├── prototype.ipynb             # This Jupyter notebook\n",
    "```"
   ]
  },
  {
   "cell_type": "markdown",
   "id": "c360a81f",
   "metadata": {},
   "source": [
    "## 2. FReD site to relational DB\n",
    "### Scrape site"
   ]
  },
  {
   "cell_type": "code",
   "execution_count": 2,
   "id": "76fb7469",
   "metadata": {},
   "outputs": [],
   "source": [
    "import requests\n",
    "\n",
    "URL = \"http://www.reflectance.co.uk//advanceresults.php?bcolourc=Bee%20Colour&hcolourc=Human%20Colour&maincolourc=Main%20Colour&flowersectc=Flower%20Section&altitudec=&heightc=&tubec=&corollac=&pollinatorc=&familyc=Family&genusc=Genus&speciesc=Species&countryc=Country&townc=&eastc=&southc=&collectorc=&publicationc=&accessionc=&family=*Any%20Family*&genus=*Any%20Genus*&species=*Any%20Species*&country=*Any%20Country*&town=*Any%20Town*&bcolour=*Any%20Colour*&hcolour=*Any%20Colour*&flowersect=*Any%20Section*&pollinator=*Any%20Pollinator*&collector=*Any%20Collector*&maincolour=*Do%20not%20mind*&altitudegreat=-1&altitudeless=2801&heightgreat=-1&heightless=1001&tubegreat=-1&tubeless=1001&corollagreat=-1&corollaless=1001&sort=f.flowerid\"\n",
    "\n",
    "try:\n",
    "    headers = {'User-Agent': 'student project python script'}\n",
    "    response = requests.get(URL, headers=headers)\n",
    "    response.raise_for_status()\n",
    "except requests.RequestException as e:\n",
    "    print(f\"Error GETting page: {e}\")\n",
    "\n",
    "with open('fred_scrape.html', 'w') as fd:\n",
    "    fd.write(response.text)"
   ]
  },
  {
   "cell_type": "markdown",
   "id": "698d041c",
   "metadata": {},
   "source": [
    "### Clean up data\n",
    "The website is mostly malformed HTML, and did not play well with lxml or beautifulsoup. The table of results was cleaned using creative text editing and bash stream processing e.g. ```grep \"cursor: pointer\" | sed s/\\<a\\ href\\\"\\#\\\"\\>//```\n",
    "\n",
    "The cleaned HTML table was stored in fred_clean.html."
   ]
  },
  {
   "cell_type": "markdown",
   "id": "b378aa73",
   "metadata": {},
   "source": [
    "### Parsing the FReD results\n",
    "The HTML table can be further processed in Pyhton with XML XPath tree lookups and regular expressions. Here are some relevant snippets from fred_parsed.py"
   ]
  },
  {
   "cell_type": "markdown",
   "id": "b114e594",
   "metadata": {},
   "source": [
    "#### Extracting table rows to python array"
   ]
  },
  {
   "cell_type": "code",
   "execution_count": null,
   "id": "1733243e",
   "metadata": {},
   "outputs": [],
   "source": [
    "# Flowers will be a list of lists to hold the extracted webpage data.\n",
    "flowers = []\n",
    "\n",
    "# iterate over rows of the table from the html document (skip the first row)\n",
    "for row in parsed_doc.getchildren()[1:]:\n",
    "    # iterate over the columns of each row, building an array of their contents.\n",
    "    cols = [col.text_content() for col in row.getchildren()]\n",
    "    # add each array to the flowers array\n",
    "    flowers.append(cols)"
   ]
  },
  {
   "cell_type": "markdown",
   "id": "ea0f2cfd",
   "metadata": {},
   "source": [
    "#### Examining the data\n",
    "There is some weirdness:\n",
    "* 89 unique colors\n",
    "* several non-primary colors\n",
    "* gradient colors separated by hyphen\n",
    "* 2 entries missing colors entirely"
   ]
  },
  {
   "cell_type": "markdown",
   "id": "0dc7e967",
   "metadata": {},
   "source": [
    "#### Cleanup pass 1: replace \"off-white\" entries"
   ]
  },
  {
   "cell_type": "code",
   "execution_count": null,
   "id": "8c43eefc",
   "metadata": {},
   "outputs": [],
   "source": [
    "for idx, color in enumerate(flowers):\n",
    "    if 'off-white' in color[2]:\n",
    "        flowers[idx][2] = 'white'"
   ]
  },
  {
   "cell_type": "markdown",
   "id": "a67c14aa",
   "metadata": {},
   "source": [
    "#### Cleanup pass 2: remove qualifiers (\"dark purple\", \"light-pink\")\n",
    "All qualifiers are in the format \"WORD color\", if we use the below regex, capture the color, and substitute the backref'd capture, it will clean these up."
   ]
  },
  {
   "cell_type": "code",
   "execution_count": null,
   "id": "bfd50c6a",
   "metadata": {},
   "outputs": [],
   "source": [
    "for idx, color in enumerate(flowers):\n",
    "    flowers[idx][2] = re.sub(r'\\b(?:dark|deep|light|pale|white-light|metallic\\ light)\\s+(\\w+)\\b', r'\\1', color[2], flags=re.IGNORECASE)"
   ]
  },
  {
   "cell_type": "markdown",
   "id": "3d6c93a6",
   "metadata": {},
   "source": [
    "#### Cleanup pass 3: Remove compound colors and replace them with multiple entries containg each color\n",
    "Things like green-yellow-white will be removed and replaced with new entries for each color."
   ]
  },
  {
   "cell_type": "code",
   "execution_count": null,
   "id": "8e9eba54",
   "metadata": {},
   "outputs": [],
   "source": [
    "for idx, color in enumerate(flowers):\n",
    "    match = re.match(r'^(\\w+)(?:-(\\w+))+(?:-(\\w+))?$', color[2])\n",
    "    if match:\n",
    "        for group in match.groups():\n",
    "            temp_color = color # This is important, you need to copy this before modifying it.\n",
    "            if group:\n",
    "                temp_color[2] = group      \n",
    "                flowers.append(temp_color)\n",
    "        \n",
    "        del flowers[idx]      # Now it is safe to remove the compound color entry from flowers."
   ]
  },
  {
   "cell_type": "markdown",
   "id": "e6b9c8ad",
   "metadata": {},
   "source": [
    "#### Cleanup final pass: Remove anything that isn't a primary color\n",
    "There were a few odd colors remaining, but not enough to bother with further."
   ]
  },
  {
   "cell_type": "code",
   "execution_count": null,
   "id": "17f88d77",
   "metadata": {},
   "outputs": [],
   "source": [
    "acceptable_colors = ['black', 'orange', 'brown', 'purple', 'red', 'blue', 'violet', 'pink', 'white', 'yellow', 'green']\n",
    "for idx, color in enumerate(flowers):\n",
    "    if color[2] not in acceptable_colors:\n",
    "        del flowers[idx]"
   ]
  },
  {
   "cell_type": "markdown",
   "id": "8e4bd96b",
   "metadata": {},
   "source": [
    "### Inserting FReD data into relational DB\n",
    "It is possible to directly manipulate sqlite dbs, but we are dumping the commands into a sql script for reproducability."
   ]
  },
  {
   "cell_type": "code",
   "execution_count": null,
   "id": "d5699c45",
   "metadata": {},
   "outputs": [],
   "source": [
    "with open('fred_build_db.sql', 'a+') as fd:\n",
    "    for item in flowers:\n",
    "        fd.write(f'''\n",
    "INSERT INTO fred_flower_colors (color, family, genus, species) VALUES ('{item[2]}', '{item[5]}','{item[6]}', '{item[7]}');\n",
    "        ''')"
   ]
  },
  {
   "cell_type": "markdown",
   "id": "6a091678",
   "metadata": {},
   "source": [
    "Now, fred_build_db.sql contains a sql script we can use to build our databases.\n",
    "```\n",
    "/CIS-1512-Project/prototyping$ sqlite3 colourBloem_db.db < fred_build_db.sql\n",
    "/CIS-1512-Project/prototyping$ sqlite3 colourBloem_db.db \n",
    "SQLite version 3.45.1 2024-01-30 16:01:20\n",
    "Enter \".help\" for usage hints.\n",
    "sqlite> SELECT * FROM fred_flower_colors LIMIT 5;\n",
    "1|white|Agavaceae|Chlorophytum|undulatum\n",
    "2|green|Boraginaceae|Anchusa|sp.\n",
    "3|blue|Boraginaceae|Anchusa|sp.\n",
    "4|orange|Asteraceae|Gazania|heterochaeta\n",
    "5|yellow|Asteraceae|Hymenolepis|parviflora\n",
    "sqlite> SELECT COUNT(*) FROM fred_flower_colors;\n",
    "2198\n",
    "```"
   ]
  },
  {
   "cell_type": "markdown",
   "id": "34a66339",
   "metadata": {},
   "source": [
    "## 3. USDA Hardiness Zones to relational DB\n",
    "For this part, the University of Oregon's PRISM group provides a public domain dataset of hardiness zone by IP.\n",
    "### The CSV dataset (phzm_us_zipcode_2023.csv)\n",
    "Here is what the data looks like. 'trange' is the acceptable zones for that zipcode. That works for us without any modification, because the Perenual API's query API accepts a hardiness zone param by ranges e.g. **&hardinessZone=1-13**\n",
    "```\n",
    "zipcode,zone,trange,zonetitle\n",
    "00501,7b,5 to 10,7b: 5 to 10\n",
    "00544,7b,5 to 10,7b: 5 to 10\n",
    "01001,6b,-5 to 0,6b: -5 to 0\n",
    "```\n",
    "This can become a sqlite table.\n",
    "```\n",
    "/CIS-1512-Project/prototyping$ sqlite3 colourBloem_db.db \n",
    "SQLite version 3.45.1 2024-01-30 16:01:20\n",
    "Enter \".help\" for usage hints.\n",
    "sqlite> CREATE TABLE hardiness_zipcodes (zipcode INTEGER PRIMARY KEY, zone TEXT, trange TEXT, zonetitle TEXT);\n",
    "sqlite> .mode csv\n",
    "sqlite> .import phzm_us_zipcode_2023.csv hardiness_zipcodes\n",
    "phzm_us_zipcode_2023.csv:1: INSERT failed: datatype mismatch       # This is expected, it's the header.\n",
    "sqlite> SELECT * FROM hardiness_zipcodes LIMIT 10;\n",
    "501,7b,\"5 to 10\",\"7b: 5 to 10\"\n",
    "544,7b,\"5 to 10\",\"7b: 5 to 10\"\n",
    "1001,6b,\"-5 to 0\",\"6b: -5 to 0\"\n",
    "1002,6a,\"-10 to -5\",\"6a: -10 to -5\"\n",
    "1003,6a,\"-10 to -5\",\"6a: -10 to -5\"\n",
    "1004,6a,\"-10 to -5\",\"6a: -10 to -5\"\n",
    "1005,6a,\"-10 to -5\",\"6a: -10 to -5\"\n",
    "1007,6a,\"-10 to -5\",\"6a: -10 to -5\"\n",
    "1008,6a,\"-10 to -5\",\"6a: -10 to -5\"\n",
    "1009,6a,\"-10 to -5\",\"6a: -10 to -5\"\n",
    "sqlite> SELECT COUNT(*) FROM hardiness_zipcodes;\n",
    "39921\n",
    "```"
   ]
  },
  {
   "cell_type": "code",
   "execution_count": null,
   "id": "a9b2b6e7",
   "metadata": {},
   "outputs": [],
   "source": []
  }
 ],
 "metadata": {
  "kernelspec": {
   "display_name": "Python 3 (ipykernel)",
   "language": "python",
   "name": "python3"
  },
  "language_info": {
   "codemirror_mode": {
    "name": "ipython",
    "version": 3
   },
   "file_extension": ".py",
   "mimetype": "text/x-python",
   "name": "python",
   "nbconvert_exporter": "python",
   "pygments_lexer": "ipython3",
   "version": "3.12.3"
  }
 },
 "nbformat": 4,
 "nbformat_minor": 5
}
