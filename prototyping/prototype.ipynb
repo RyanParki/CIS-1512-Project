{
 "cells": [
  {
   "cell_type": "markdown",
   "id": "8991f68b",
   "metadata": {},
   "source": [
    "# Prototyping\n",
    "## Intro\n",
    "Our project relies on multiple datasets to provide users with flowers based on their desired colors. Research indicates that, surprisingly, there is no unified extensive dataset of flower data and colors, so various public sources are combined.\n",
    "\n",
    "1. The Flower REflectance Databse, from reflectance.co.uk, is an academic project from Queen Mary, University of London to establish build a database of flower colors. It is the most complete dataset of its kind. The terms of use indicate that it is permissible to use the data for this usecase.\n",
    "\n",
    "2. The Perenual API from perenual.com has a feature rich and complete dataset with flower info and images. One can make 100 API calls per day for free with a registered account, which is sufficient for this usecase. API queries will be cached locally as the source data is unlikely to change.\n",
    "\n",
    "### Challenges\n",
    "* The FReD website is quite old, has no API, and the results page table has malformed HTML. It is necessarry to do some cleanup, parse the HTML, sanitize and enrich the data, then build a relational database from it.\n",
    "* The FReD database's color field requires some normalization. Some examples:\n",
    "  * Qualifiers e.g. **dark yellow**, **metallic green**\n",
    "    * In these cases, the qualifier will be stripped.\n",
    "  * Compound colors e.g. **white-light purple**, **violet-brown-green**\n",
    "    * These cases present an opprutinity to enrich and extend the source data by building multiple records for each flower by color.\n",
    "  * Specific shades e.g. **cream**, **lilac**\n",
    "    * These will be normalized to CMYK colors.\n",
    "\n",
    "### Directory layout\n",
    "```\n",
    "/prototyping/\n",
    "├── fred_build_db.sql           # SQL Statements to build the database\n",
    "├── fred_clean.html             # A manually cleaned HTML document from the FRed site\n",
    "├── fred_colors.txt             # A textfile of all colors for inspection\n",
    "├── fred_download.py            # Python script to download the original data from FReD\n",
    "├── fred_parsed.py              # Python script to process the data step by step with work shown\n",
    "├── fred_scrape.html            # Original HTML document containing the big table of flowers and colors\n",
    "├── perenual_get_example.py     # Python example for querying the Perenual API\n",
    "├── perenual_sample_data.json   # Sample record from Perenual search results\n",
    "├── prototype.ipynb             # This Jupyter notebook\n",
    "```"
   ]
  },
  {
   "cell_type": "markdown",
   "id": "3b746e17",
   "metadata": {},
   "source": [
    "## FReD site to relational DB\n",
    "### Scrape site"
   ]
  },
  {
   "cell_type": "code",
   "execution_count": 2,
   "id": "30787fc5",
   "metadata": {},
   "outputs": [],
   "source": [
    "import requests\n",
    "\n",
    "URL = \"http://www.reflectance.co.uk//advanceresults.php?bcolourc=Bee%20Colour&hcolourc=Human%20Colour&maincolourc=Main%20Colour&flowersectc=Flower%20Section&altitudec=&heightc=&tubec=&corollac=&pollinatorc=&familyc=Family&genusc=Genus&speciesc=Species&countryc=Country&townc=&eastc=&southc=&collectorc=&publicationc=&accessionc=&family=*Any%20Family*&genus=*Any%20Genus*&species=*Any%20Species*&country=*Any%20Country*&town=*Any%20Town*&bcolour=*Any%20Colour*&hcolour=*Any%20Colour*&flowersect=*Any%20Section*&pollinator=*Any%20Pollinator*&collector=*Any%20Collector*&maincolour=*Do%20not%20mind*&altitudegreat=-1&altitudeless=2801&heightgreat=-1&heightless=1001&tubegreat=-1&tubeless=1001&corollagreat=-1&corollaless=1001&sort=f.flowerid\"\n",
    "\n",
    "try:\n",
    "    headers = {'User-Agent': 'student project python script'}\n",
    "    response = requests.get(URL, headers=headers)\n",
    "    response.raise_for_status()\n",
    "except requests.RequestException as e:\n",
    "    print(f\"Error GETting page: {e}\")\n",
    "\n",
    "with open('fred_scrape.html', 'w') as fd:\n",
    "    fd.write(response.text)"
   ]
  },
  {
   "cell_type": "markdown",
   "id": "b91535ec",
   "metadata": {},
   "source": [
    "### Clean up data\n",
    "The website is mostly malformed HTML, and did not play well with lxml or beautifulsoup. The table of results was cleaned using creative text editing and bash stream processing e.g. ```grep \"cursor: pointer\" | sed s/\\<a\\ href\\\"\\#\\\"\\>//```\n",
    "\n",
    "The cleaned HTML table was stored in fred_clean.html."
   ]
  },
  {
   "cell_type": "markdown",
   "id": "3233ec0a",
   "metadata": {},
   "source": [
    "### Parsing the FReD results\n",
    "The HTML table can be further processed in Pyhton with XML XPath tree lookups and regular expressions. Here are some relevant snippets from fred_parsed.py"
   ]
  },
  {
   "cell_type": "markdown",
   "id": "4eea0438",
   "metadata": {},
   "source": [
    "#### Extracting table rows to python array"
   ]
  },
  {
   "cell_type": "code",
   "execution_count": null,
   "id": "6e1822e1",
   "metadata": {},
   "outputs": [],
   "source": [
    "# Flowers will be a list of lists to hold the extracted webpage data.\n",
    "flowers = []\n",
    "\n",
    "# iterate over rows of the table from the html document (skip the first row)\n",
    "for row in parsed_doc.getchildren()[1:]:\n",
    "    # iterate over the columns of each row, building an array of their contents.\n",
    "    cols = [col.text_content() for col in row.getchildren()]\n",
    "    # add each array to the flowers array\n",
    "    flowers.append(cols)"
   ]
  },
  {
   "cell_type": "markdown",
   "id": "45c6bc24",
   "metadata": {},
   "source": [
    "#### Examining the data\n",
    "There is some weirdness:\n",
    "* 89 unique colors\n",
    "* several non-primary colors\n",
    "* gradient colors separated by hyphen\n",
    "* 2 entries missing colors entirely"
   ]
  },
  {
   "cell_type": "markdown",
   "id": "f56978fc",
   "metadata": {},
   "source": [
    "#### Cleanup pass 1: replace \"off-white\" entries"
   ]
  },
  {
   "cell_type": "code",
   "execution_count": null,
   "id": "042cb60e",
   "metadata": {},
   "outputs": [],
   "source": [
    "for idx, color in enumerate(flowers):\n",
    "    if 'off-white' in color[2]:\n",
    "        flowers[idx][2] = 'white'"
   ]
  },
  {
   "cell_type": "markdown",
   "id": "a94412b5",
   "metadata": {},
   "source": [
    "#### Cleanup pass 2: remove qualifiers (\"dark purple\", \"light-pink\")\n",
    "All qualifiers are in the format \"WORD color\", if we use the below regex, capture the color, and substitute the backref'd capture, it will clean these up."
   ]
  },
  {
   "cell_type": "code",
   "execution_count": null,
   "id": "3c539a3c",
   "metadata": {},
   "outputs": [],
   "source": [
    "for idx, color in enumerate(flowers):\n",
    "    flowers[idx][2] = re.sub(r'\\b(?:dark|deep|light|pale|white-light|metallic\\ light)\\s+(\\w+)\\b', r'\\1', color[2], flags=re.IGNORECASE)"
   ]
  },
  {
   "cell_type": "markdown",
   "id": "e91d17dd",
   "metadata": {},
   "source": [
    "#### Cleanup pass 3: Remove compound colors and replace them with multiple entries containg each color\n",
    "Things like green-yellow-white will be removed and replaced with new entries for each color."
   ]
  },
  {
   "cell_type": "code",
   "execution_count": null,
   "id": "5ea0405a",
   "metadata": {},
   "outputs": [],
   "source": [
    "for idx, color in enumerate(flowers):\n",
    "    match = re.match(r'^(\\w+)(?:-(\\w+))+(?:-(\\w+))?$', color[2])\n",
    "    if match:\n",
    "        for group in match.groups():\n",
    "            temp_color = color # This is important, you need to copy this before modifying it.\n",
    "            if group:\n",
    "                temp_color[2] = group      \n",
    "                flowers.append(temp_color)\n",
    "        \n",
    "        del flowers[idx]      # Now it is safe to remove the compound color entry from flowers."
   ]
  },
  {
   "cell_type": "markdown",
   "id": "3838552c",
   "metadata": {},
   "source": [
    "#### Cleanup final pass: Remove anything that isn't a primary color\n",
    "There were a few odd colors remaining, but not enough to bother with further."
   ]
  },
  {
   "cell_type": "code",
   "execution_count": null,
   "id": "f9341935",
   "metadata": {},
   "outputs": [],
   "source": [
    "acceptable_colors = ['black', 'orange', 'brown', 'purple', 'red', 'blue', 'violet', 'pink', 'white', 'yellow', 'green']\n",
    "for idx, color in enumerate(flowers):\n",
    "    if color[2] not in acceptable_colors:\n",
    "        del flowers[idx]"
   ]
  },
  {
   "cell_type": "markdown",
   "id": "2b770dd7",
   "metadata": {},
   "source": [
    "### Inserting FReD data into relational DB\n",
    "Python can directly manipulate sqlite dbs, but we are dumping the commands into a sql script for reproducability."
   ]
  },
  {
   "cell_type": "code",
   "execution_count": null,
   "id": "3a27369d",
   "metadata": {},
   "outputs": [],
   "source": []
  },
  {
   "cell_type": "code",
   "execution_count": null,
   "id": "5dff1869",
   "metadata": {},
   "outputs": [],
   "source": []
  }
 ],
 "metadata": {
  "kernelspec": {
   "display_name": "Python 3 (ipykernel)",
   "language": "python",
   "name": "python3"
  },
  "language_info": {
   "codemirror_mode": {
    "name": "ipython",
    "version": 3
   },
   "file_extension": ".py",
   "mimetype": "text/x-python",
   "name": "python",
   "nbconvert_exporter": "python",
   "pygments_lexer": "ipython3",
   "version": "3.12.3"
  }
 },
 "nbformat": 4,
 "nbformat_minor": 5
}
